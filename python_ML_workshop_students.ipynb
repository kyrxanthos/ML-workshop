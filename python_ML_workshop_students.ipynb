{
 "cells": [
  {
   "attachments": {},
   "cell_type": "markdown",
   "metadata": {},
   "source": [
    "# Python & Machine Learning Workshop @ IQVIA!"
   ]
  },
  {
   "attachments": {},
   "cell_type": "markdown",
   "metadata": {},
   "source": [
    "In this tutorial, we will be introducing the basics of Python and Machine Learning. This tutorial is intended for high school students who are new to programming and machine learning. We will cover the following topics:\n",
    "\n",
    "- Simple Python Functions\n",
    "- Numpy\n",
    "- Scipy\n",
    "- Matplotlib\n",
    "- Pandas\n",
    "- Functions in Python\n",
    "\n",
    "We will then have 5 exercises that assess what we learned from the above topics \n",
    "\n",
    "Later we will look at some Machine Learning high-level concepts (teasers). We will explore a case study that has to do with heart failure and we will include 8 optional exercises for anyone who wants to build their first Machine Learning model!\n",
    "\n",
    "Let's start!"
   ]
  },
  {
   "attachments": {},
   "cell_type": "markdown",
   "metadata": {},
   "source": [
    "### Simple Python Functions\n",
    "\n",
    "#### Print Statement\n",
    "In Python, the print statement is used to output text to the console."
   ]
  },
  {
   "attachments": {},
   "cell_type": "markdown",
   "metadata": {},
   "source": [
    "Let's begin by writing your first python program! \n",
    "\n",
    "Run the cell below by clicking on it and pressing Shift+Enter on your keyboard"
   ]
  },
  {
   "cell_type": "code",
   "execution_count": null,
   "metadata": {},
   "outputs": [],
   "source": [
    "print('Hello World!')"
   ]
  },
  {
   "attachments": {},
   "cell_type": "markdown",
   "metadata": {},
   "source": [
    "Now edit the cell below to add your name and print it to the prompt:"
   ]
  },
  {
   "cell_type": "code",
   "execution_count": null,
   "metadata": {},
   "outputs": [],
   "source": [
    "name = \"Kyriacos Xanthos\"\n",
    "print(\"My name is\", name)"
   ]
  },
  {
   "attachments": {},
   "cell_type": "markdown",
   "metadata": {},
   "source": [
    "### Variables\n",
    "Variables are used to store data in Python. In Python, you don't need to specify the data type of a variable when you declare it. You can simply assign a value to a variable using the = operator. For example:"
   ]
  },
  {
   "cell_type": "code",
   "execution_count": null,
   "metadata": {},
   "outputs": [],
   "source": [
    "x = 5\n",
    "y = 10\n",
    "print(x, y)"
   ]
  },
  {
   "attachments": {},
   "cell_type": "markdown",
   "metadata": {},
   "source": [
    "In this example, we created two variables, x and y, and assigned them the values 5 and 10, respectively."
   ]
  },
  {
   "attachments": {},
   "cell_type": "markdown",
   "metadata": {},
   "source": [
    "### If Statements\n",
    "If statements are used to execute code based on a condition. The condition is evaluated to either True or False. If the condition is True, the code inside the if block is executed. Otherwise, the code is skipped. Here's an example:"
   ]
  },
  {
   "cell_type": "code",
   "execution_count": null,
   "metadata": {},
   "outputs": [],
   "source": [
    "x = 5\n",
    "if x > 3:\n",
    "    print(\"x is greater than 3\")"
   ]
  },
  {
   "attachments": {},
   "cell_type": "markdown",
   "metadata": {},
   "source": [
    "In this example, we check if x is greater than 3. If it is, we print a message to the console."
   ]
  },
  {
   "attachments": {},
   "cell_type": "markdown",
   "metadata": {},
   "source": [
    "### For Loops\n",
    "\n",
    "In Python, a for loop is used to iterate over a sequence (such as a list, tuple, or string) or other iterable object. It allows you to execute a block of code for each item in the sequence.\n",
    "\n",
    "#### Basic For Loop Syntax\n",
    "The basic syntax for a for loop in Python is as follows:"
   ]
  },
  {
   "attachments": {},
   "cell_type": "markdown",
   "metadata": {},
   "source": [
    "```python\n",
    "for variable in sequence:\n",
    "    # code to be executed for each item in the sequence\n",
    "```"
   ]
  },
  {
   "attachments": {},
   "cell_type": "markdown",
   "metadata": {},
   "source": [
    "In this example, variable represents the current item in the sequence, and sequence represents the sequence or iterable object being looped over.\n",
    "\n",
    "#### Example Usage\n",
    "Here is an example of how to use a for loop to iterate over a list of numbers and print each number:"
   ]
  },
  {
   "cell_type": "code",
   "execution_count": null,
   "metadata": {},
   "outputs": [],
   "source": [
    "numbers = [1, 2, 3, 4, 5]\n",
    "\n",
    "for num in numbers:\n",
    "    print(num)"
   ]
  },
  {
   "attachments": {},
   "cell_type": "markdown",
   "metadata": {},
   "source": [
    "In this example, we defined a list of numbers and used a for loop to iterate over each number in the list. For each number, we printed it to the console. Try with colors:"
   ]
  },
  {
   "cell_type": "code",
   "execution_count": null,
   "metadata": {},
   "outputs": [],
   "source": [
    "# Creating a list of favorite colors\n",
    "colors = [\"red\", \"blue\", \"green\", \"yellow\", \"orange\"]\n",
    "\n",
    "# Using a for loop to print out each color\n",
    "for color in colors:\n",
    "    print(color)\n"
   ]
  },
  {
   "attachments": {},
   "cell_type": "markdown",
   "metadata": {},
   "source": [
    "#### Using the Range Function\n",
    "The `range()` function in Python can be used to generate a sequence of numbers. Here is an example of how to use a for loop with the range() function:"
   ]
  },
  {
   "cell_type": "code",
   "execution_count": null,
   "metadata": {},
   "outputs": [],
   "source": [
    "for i in range(5):\n",
    "    print(i)"
   ]
  },
  {
   "attachments": {},
   "cell_type": "markdown",
   "metadata": {},
   "source": [
    "In this example, we use a for loop to iterate over the sequence generated by the range() function. The loop will run five times, with i taking on the values of 0, 1, 2, 3, and 4 on each iteration.\n",
    "\n",
    "#### Using the Enumerate Function\n",
    "The enumerate() function in Python can be used to iterate over a sequence and keep track of the current index. Here is an example of how to use a for loop with the enumerate() function:"
   ]
  },
  {
   "cell_type": "code",
   "execution_count": null,
   "metadata": {},
   "outputs": [],
   "source": [
    "fruits = ['apple', 'banana', 'cherry']\n",
    "\n",
    "for i, fruit in enumerate(fruits):\n",
    "    print(i, fruit)\n"
   ]
  },
  {
   "attachments": {},
   "cell_type": "markdown",
   "metadata": {},
   "source": [
    "In this example, we use a for loop with the enumerate() function to iterate over a list of fruits. For each fruit, we print the index (starting at 0) and the name of the fruit to the console."
   ]
  },
  {
   "attachments": {},
   "cell_type": "markdown",
   "metadata": {},
   "source": [
    "### Numpy\n",
    "\n",
    "NumPy is a Python library used for working with arrays. It also has functions for working in domain of linear algebra, fourier transform, and matrices.\n",
    "\n",
    "#### Importing NumPy\n",
    "To use NumPy in your Python code, you must first import it. You can do this by using the import statement. Here's an example:"
   ]
  },
  {
   "cell_type": "code",
   "execution_count": null,
   "metadata": {},
   "outputs": [],
   "source": [
    "import numpy as np\n"
   ]
  },
  {
   "attachments": {},
   "cell_type": "markdown",
   "metadata": {},
   "source": [
    "In this example, we're importing NumPy and giving it an alias np. This is a common convention in Python.\n",
    "#### Creating NumPy Arrays\n",
    "NumPy arrays are created using the np.array() function. Here's an example:"
   ]
  },
  {
   "cell_type": "code",
   "execution_count": null,
   "metadata": {},
   "outputs": [],
   "source": [
    "import numpy as np\n",
    "\n",
    "arr = np.array([1, 2, 3, 4, 5])\n",
    "\n",
    "print(arr)\n"
   ]
  },
  {
   "attachments": {},
   "cell_type": "markdown",
   "metadata": {},
   "source": [
    "In this example, we created a NumPy array with the values 1, 2, 3, 4, and 5.\n",
    "\n",
    "#### NumPy Array Operations\n",
    "NumPy arrays support many mathematical operations, such as addition, subtraction, multiplication, and division. Here's an example:"
   ]
  },
  {
   "cell_type": "code",
   "execution_count": null,
   "metadata": {},
   "outputs": [],
   "source": [
    "import numpy as np\n",
    "\n",
    "arr1 = np.array([1, 2, 3])\n",
    "arr2 = np.array([4, 5, 6])\n",
    "\n",
    "arr3 = arr1 + arr2\n",
    "\n",
    "print(arr3)\n"
   ]
  },
  {
   "attachments": {},
   "cell_type": "markdown",
   "metadata": {},
   "source": [
    "In this example, we created two NumPy arrays, arr1 and arr2, and added them together using the + operator. The result is a new NumPy array, arr3, with the values 5, 7, and 9."
   ]
  },
  {
   "attachments": {},
   "cell_type": "markdown",
   "metadata": {},
   "source": [
    "### SciPy\n",
    "\n",
    "SciPy is a library in Python that is used for scientific and technical computing. It is built on top of NumPy, which is a library for numerical operations. In this tutorial, we will cover some simple operations that can be performed using SciPy.\n",
    "\n",
    "#### Importing SciPy\n",
    "Before we can use SciPy, we need to import it. To do this, we can use the following code:"
   ]
  },
  {
   "cell_type": "code",
   "execution_count": null,
   "metadata": {},
   "outputs": [],
   "source": [
    "import scipy"
   ]
  },
  {
   "attachments": {},
   "cell_type": "markdown",
   "metadata": {},
   "source": [
    "This imports the entire SciPy library. If you only need to use certain parts of the library, you can import those specifically. For example, if you only need to use the linalg module, you can import it like this:"
   ]
  },
  {
   "cell_type": "code",
   "execution_count": null,
   "metadata": {},
   "outputs": [],
   "source": [
    "from scipy import linalg"
   ]
  },
  {
   "attachments": {},
   "cell_type": "markdown",
   "metadata": {},
   "source": [
    "### Linear Algebra Operations\n",
    "One of the main features of SciPy is its support for linear algebra operations. The linalg module contains many functions for performing these operations. Here are some examples:"
   ]
  },
  {
   "cell_type": "code",
   "execution_count": null,
   "metadata": {},
   "outputs": [],
   "source": [
    "import numpy as np\n",
    "from scipy import linalg\n",
    "\n",
    "# Creating a matrix\n",
    "A = np.array([[1, 2], [3, 4]])\n",
    "\n",
    "# Finding the determinant of the matrix\n",
    "det_A = linalg.det(A)\n",
    "print(\"Determinant of A:\", det_A)\n",
    "\n",
    "# Finding the inverse of the matrix\n",
    "inv_A = linalg.inv(A)\n",
    "print(\"Inverse of A:\\n\", inv_A)\n",
    "\n",
    "# Solving a system of linear equations\n",
    "b = np.array([5, 6])\n",
    "x = linalg.solve(A, b)\n",
    "print(\"Solution to Ax = b:\", x)\n"
   ]
  },
  {
   "attachments": {},
   "cell_type": "markdown",
   "metadata": {},
   "source": [
    "In this example, we create a matrix A and perform several linear algebra operations on it using functions from the linalg module. We find the determinant of A, its inverse, and the solution to the system of linear equations Ax = b.\n",
    "\n",
    "#### Statistics\n",
    "SciPy also includes functions for statistical operations. Here are some examples:"
   ]
  },
  {
   "cell_type": "code",
   "execution_count": null,
   "metadata": {},
   "outputs": [],
   "source": [
    "from scipy import stats\n",
    "\n",
    "# Generating a random sample of data\n",
    "data = np.random.normal(size=100)\n",
    "\n",
    "# Finding the mean and standard deviation of the data\n",
    "mean = np.mean(data)\n",
    "std_dev = np.std(data)\n",
    "\n",
    "# Performing a t-test on the data\n",
    "t_stat, p_val = stats.ttest_1samp(data, 0)\n",
    "\n",
    "print(\"Mean:\", mean)\n",
    "print(\"Standard deviation:\", std_dev)\n",
    "print(\"t-statistic:\", t_stat)\n",
    "print(\"p-value:\", p_val)\n"
   ]
  },
  {
   "attachments": {},
   "cell_type": "markdown",
   "metadata": {},
   "source": [
    "In this example, we generate a random sample of data and use functions from the stats module to find its mean and standard deviation. We also perform a one-sample t-test on the data."
   ]
  },
  {
   "attachments": {},
   "cell_type": "markdown",
   "metadata": {},
   "source": [
    "### Matplotlib\n",
    "\n",
    "Matplotlib is a library used for creating static, animated, and interactive visualizations in Python.\n",
    "\n",
    "#### Importing Matplotlib\n",
    "To use Matplotlib in your Python code, you must first import it. You can do this by using the import statement. Here's an example:"
   ]
  },
  {
   "cell_type": "code",
   "execution_count": null,
   "metadata": {},
   "outputs": [],
   "source": [
    "import matplotlib.pyplot as plt"
   ]
  },
  {
   "attachments": {},
   "cell_type": "markdown",
   "metadata": {},
   "source": [
    "In this example, we're importing Matplotlib and giving it an alias plt. This is a common convention in Python.\n",
    "\n",
    "#### Creating a Line Plot\n",
    "A line plot is a type of plot that displays data as a series of points connected by straight lines. Here's an example of how to create a line plot using Matplotlib:"
   ]
  },
  {
   "cell_type": "code",
   "execution_count": null,
   "metadata": {},
   "outputs": [],
   "source": [
    "import matplotlib.pyplot as plt\n",
    "import numpy as np\n",
    "\n",
    "x = np.array([0, 1, 2, 3])\n",
    "y = np.array([1, 3, 2, 4])\n",
    "\n",
    "plt.plot(x, y)\n",
    "plt.show()\n"
   ]
  },
  {
   "attachments": {},
   "cell_type": "markdown",
   "metadata": {},
   "source": [
    "In this example, we created two NumPy arrays, x and y, and used the plt.plot() function to create a line plot. We then used the plt.show() function to display the plot.\n",
    "\n",
    "#### Creating a Scatter Plot\n",
    "A scatter plot is a type of plot that displays data as a collection of points. Here's an example of how to create a scatter plot using Matplotlib:"
   ]
  },
  {
   "cell_type": "code",
   "execution_count": null,
   "metadata": {},
   "outputs": [],
   "source": [
    "import matplotlib.pyplot as plt\n",
    "import numpy as np\n",
    "\n",
    "x = np.array([0, 1, 2, 3])\n",
    "y = np.array([1, 3, 2, 4])\n",
    "\n",
    "plt.scatter(x, y)\n",
    "plt.show()\n"
   ]
  },
  {
   "attachments": {},
   "cell_type": "markdown",
   "metadata": {},
   "source": [
    "In this example, we created two NumPy arrays, x and y, and used the plt.scatter() function to create a scatter plot. We then used the plt.show() function to display the plot.\n",
    "\n",
    "#### Creating a Bar Plot\n",
    "A bar plot is a type of plot that displays data as a series of bars. Here's an example of how to create a bar plot using Matplotlib:"
   ]
  },
  {
   "cell_type": "code",
   "execution_count": null,
   "metadata": {},
   "outputs": [],
   "source": [
    "import matplotlib.pyplot as plt\n",
    "import numpy as np\n",
    "\n",
    "x = np.array([\"A\", \"B\", \"C\", \"D\"])\n",
    "y = np.array([3, 8, 1, 10])\n",
    "\n",
    "plt.bar(x, y)\n",
    "plt.show()\n"
   ]
  },
  {
   "attachments": {},
   "cell_type": "markdown",
   "metadata": {},
   "source": [
    "In this example, we created two NumPy arrays, x and y, and used the plt.bar() function to create a bar plot. We then used the plt.show() function to display the plot.\n",
    "\n",
    "#### Creating a Pie Chart\n",
    "A pie chart is a type of chart that displays data as a circle divided into slices. Each slice represents a portion of the whole. Here's an example of how to create a pie chart using Matplotlib:"
   ]
  },
  {
   "cell_type": "code",
   "execution_count": null,
   "metadata": {},
   "outputs": [],
   "source": [
    "import matplotlib.pyplot as plt\n",
    "import numpy as np\n",
    "\n",
    "labels = np.array([\"A\", \"B\", \"C\", \"D\"])\n",
    "sizes = np.array([15, 30, 45, 10])\n",
    "\n",
    "plt.pie(sizes, labels=labels)\n",
    "plt.show()\n"
   ]
  },
  {
   "attachments": {},
   "cell_type": "markdown",
   "metadata": {},
   "source": [
    "In this example, we created two NumPy arrays, labels and sizes, and used the plt.pie() function to create a pie chart. We then used the plt.show() function to display the chart."
   ]
  },
  {
   "attachments": {},
   "cell_type": "markdown",
   "metadata": {},
   "source": [
    "#### Matplotlib line chart with crosses"
   ]
  },
  {
   "cell_type": "code",
   "execution_count": null,
   "metadata": {},
   "outputs": [],
   "source": [
    "# Generate a sequence of numbers from -10 to 10 with 100 steps in between\n",
    "x = np.linspace(-10, 10, 100)\n",
    "# Create a second array using sine\n",
    "y = np.sin(x)\n",
    "# The plot function makes a line chart of one array against another\n",
    "plt.plot(x, y, marker=\"x\")\n",
    "plt.show()"
   ]
  },
  {
   "attachments": {},
   "cell_type": "markdown",
   "metadata": {},
   "source": [
    "### Pandas\n",
    "\n",
    "Pandas is a Python library that is widely used for data manipulation and analysis. It provides data structures for efficiently storing and manipulating large datasets, as well as functions for performing common data analysis tasks. In this tutorial, we will cover some of the basics of working with Pandas.\n",
    "\n",
    "#### Importing Pandas\n",
    "To use Pandas in our code, we need to import it. We can import Pandas using the following code:"
   ]
  },
  {
   "cell_type": "code",
   "execution_count": null,
   "metadata": {},
   "outputs": [],
   "source": [
    "import pandas as pd\n"
   ]
  },
  {
   "attachments": {},
   "cell_type": "markdown",
   "metadata": {},
   "source": [
    "This imports Pandas and aliases it to pd, which is a common convention in the Python community.\n",
    "\n",
    "#### Creating a DataFrame\n",
    "A DataFrame is a data structure in Pandas that is used for storing and manipulating two-dimensional data. It is similar to a spreadsheet or a SQL table. Here is an example of creating a DataFrame:"
   ]
  },
  {
   "cell_type": "code",
   "execution_count": null,
   "metadata": {},
   "outputs": [],
   "source": [
    "import pandas as pd\n",
    "\n",
    "# Creating a dictionary of data\n",
    "data = {'Name': ['John', 'Jane', 'Mike', 'Emily'],\n",
    "        'Age': [25, 30, 18, 21],\n",
    "        'Gender': ['M', 'F', 'M', 'F']}\n",
    "\n",
    "# Creating a DataFrame from the dictionary\n",
    "df = pd.DataFrame(data)\n",
    "\n",
    "df"
   ]
  },
  {
   "attachments": {},
   "cell_type": "markdown",
   "metadata": {},
   "source": [
    "#### Filtering Data\n",
    "One of the most common tasks in data analysis is filtering data based on certain criteria. Pandas makes this easy with its loc function. Here is an example of filtering data:"
   ]
  },
  {
   "cell_type": "code",
   "execution_count": null,
   "metadata": {},
   "outputs": [],
   "source": [
    "import pandas as pd\n",
    "\n",
    "# Creating a DataFrame\n",
    "data = {'Name': ['John', 'Jane', 'Mike', 'Emily'],\n",
    "        'Age': [25, 30, 18, 21],\n",
    "        'Gender': ['M', 'F', 'M', 'F']}\n",
    "df = pd.DataFrame(data)\n",
    "\n",
    "# Filtering the data\n",
    "filtered_df = df.loc[df['Age'] >= 25]\n",
    "\n",
    "filtered_df\n"
   ]
  },
  {
   "attachments": {},
   "cell_type": "markdown",
   "metadata": {},
   "source": [
    "### Functions in Python\n",
    "\n",
    "A function is a block of code that performs a specific task. Functions are used to organize code into reusable pieces, and can be called from other parts of the program to perform the task. In this tutorial, we will cover how to define and call functions in Python.\n",
    "\n",
    "#### Defining a Function\n",
    "To define a function in Python, we use the def keyword, followed by the name of the function, and a set of parentheses that may contain parameters. The code block that makes up the function body is indented below the function definition.\n",
    "\n",
    "Here is an example of a simple function that adds two numbers together:"
   ]
  },
  {
   "cell_type": "code",
   "execution_count": null,
   "metadata": {},
   "outputs": [],
   "source": [
    "def add_numbers(a, b):\n",
    "    return a + b\n"
   ]
  },
  {
   "attachments": {},
   "cell_type": "markdown",
   "metadata": {},
   "source": [
    "In this example, we have defined a function called add_numbers that takes two parameters a and b, and returns their sum.\n",
    "\n",
    "#### Calling a Function\n",
    "To call a function in Python, we simply use the function name followed by a set of parentheses that contain any necessary arguments. Here is an example of calling the add_numbers function:"
   ]
  },
  {
   "cell_type": "code",
   "execution_count": null,
   "metadata": {},
   "outputs": [],
   "source": [
    "result = add_numbers(2, 3)\n",
    "print(result)"
   ]
  },
  {
   "attachments": {},
   "cell_type": "markdown",
   "metadata": {},
   "source": [
    "In this example, we call the add_numbers function with the arguments 2 and 3, and store the result in a variable called result. We then print the value of result, which should be 5.\n",
    "\n",
    "Default Parameters\n",
    "Functions in Python can also have default parameter values. If a default value is specified for a parameter, it does not need to be provided when the function is called, and will use the default value instead.\n",
    "\n",
    "Here is an example of a function that uses default parameters:"
   ]
  },
  {
   "cell_type": "code",
   "execution_count": null,
   "metadata": {},
   "outputs": [],
   "source": [
    "def greet(name=\"World\"):\n",
    "    print(\"Hello, \" + name + \"!\")\n"
   ]
  },
  {
   "attachments": {},
   "cell_type": "markdown",
   "metadata": {},
   "source": [
    "In this example, we have defined a function called greet that takes a single parameter name, which has a default value of \"World\". If no value is provided for name when the function is called, it will use the default value.\n",
    "\n",
    "Here are some examples of calling the greet function:"
   ]
  },
  {
   "cell_type": "code",
   "execution_count": null,
   "metadata": {},
   "outputs": [],
   "source": [
    "greet()          # prints \"Hello, World!\"\n",
    "greet(\"Alice\")   # prints \"Hello, Alice!\"\n",
    "greet(\"Bob\")     # prints \"Hello, Bob!\""
   ]
  },
  {
   "attachments": {},
   "cell_type": "markdown",
   "metadata": {},
   "source": [
    "### Exercises\n",
    "For the following exercises, delete the `pass` line and type your answer.\n",
    "#### Exercise 1: For Loops\n",
    "Write a function that takes a list of integers as input and returns the sum of all the even numbers in the list."
   ]
  },
  {
   "cell_type": "code",
   "execution_count": null,
   "metadata": {},
   "outputs": [],
   "source": [
    "def sum_even_numbers(numbers):\n",
    "    \"\"\"\n",
    "    Given a list of integers, return the sum of all the even numbers in the list.\n",
    "    \"\"\"\n",
    "    pass\n",
    "\n",
    "sum_even_numbers([1,2,3,4]) # result: 6"
   ]
  },
  {
   "attachments": {},
   "cell_type": "markdown",
   "metadata": {},
   "source": [
    "#### Exercise 2: If Statements\n",
    "Write a function that takes two numbers as input and returns the larger of the two numbers."
   ]
  },
  {
   "cell_type": "code",
   "execution_count": null,
   "metadata": {},
   "outputs": [],
   "source": [
    "def larger_number(a, b):\n",
    "    \"\"\"\n",
    "    Given two numbers, return the larger of the two.\n",
    "    \"\"\"\n",
    "    pass\n",
    "\n",
    "larger_number(3,7) # result: 7"
   ]
  },
  {
   "attachments": {},
   "cell_type": "markdown",
   "metadata": {},
   "source": [
    "#### Exercise 3: NumPy\n",
    "Write a function that takes a 2D NumPy array as input and returns the sum of all the elements in the array."
   ]
  },
  {
   "cell_type": "code",
   "execution_count": null,
   "metadata": {},
   "outputs": [],
   "source": [
    "import numpy as np\n",
    "\n",
    "def sum_2d_array(arr):\n",
    "    \"\"\"\n",
    "    Given a 2D NumPy array, return the sum of all the elements in the array.\n",
    "    \"\"\"\n",
    "    pass\n",
    "\n",
    "sum_2d_array(np.array([[1,2], [3,4]])) # result: 10"
   ]
  },
  {
   "attachments": {},
   "cell_type": "markdown",
   "metadata": {},
   "source": [
    "#### Exercise 4: SciPy\n",
    "Write a function that takes a list of integers as input and returns the average of the even numbers in the list, using the stats module from SciPy."
   ]
  },
  {
   "cell_type": "code",
   "execution_count": null,
   "metadata": {},
   "outputs": [],
   "source": [
    "import scipy.stats as stats\n",
    "\n",
    "def avg_even_numbers(numbers):\n",
    "    \"\"\"\n",
    "    Given a list of integers, return the average of all the even numbers in the list.\n",
    "    \"\"\"\n",
    "    pass\n",
    "\n",
    "avg_even_numbers([1,2,3,4]) # result: 3.0\n"
   ]
  },
  {
   "attachments": {},
   "cell_type": "markdown",
   "metadata": {},
   "source": [
    "#### Exercise 5: Pandas\n",
    "Write a function that takes a Pandas DataFrame as input and returns the maximum value of a specific column."
   ]
  },
  {
   "cell_type": "code",
   "execution_count": null,
   "metadata": {},
   "outputs": [],
   "source": [
    "import pandas as pd\n",
    "\n",
    "def max_column(df, column_name):\n",
    "    \"\"\"\n",
    "    Given a Pandas DataFrame and a column name, return the maximum value in that column.\n",
    "    \"\"\"\n",
    "    pass\n",
    "\n",
    "max_column(df, 'Age') # result: 30 "
   ]
  },
  {
   "attachments": {},
   "cell_type": "markdown",
   "metadata": {},
   "source": [
    "#### Exercise 6: Matplotlib\n",
    "Write a function that takes a list of numbers as input and plots a histogram of the data using Matplotlib."
   ]
  },
  {
   "cell_type": "code",
   "execution_count": null,
   "metadata": {},
   "outputs": [],
   "source": [
    "import matplotlib.pyplot as plt\n",
    "\n",
    "def plot_histogram(data):\n",
    "    \"\"\"\n",
    "    Given a list of numbers, plot a histogram of the data.\n",
    "    \"\"\"\n",
    "    pass\n",
    "\n",
    "plot_histogram(df['Age'])\n"
   ]
  },
  {
   "attachments": {},
   "cell_type": "markdown",
   "metadata": {},
   "source": [
    "## Introduction to Machine Learning in Python\n",
    "\n",
    "Machine learning is a field of study that uses statistical models and algorithms to enable computer systems to learn from data, and improve their performance on a specific task over time. Python is a popular programming language for machine learning due to its ease of use, extensive libraries, and strong community support. In this tutorial, we will explore some basic concepts of machine learning in Python, and how to use the scikit-learn library to build simple machine learning models.\n",
    "\n",
    "### Why Python for Machine Learning?\n",
    "Python is an ideal language for machine learning due to its simplicity and flexibility. Python has a large and active community, and is supported by many powerful and easy-to-use libraries for scientific computing and data analysis. In particular, the scikit-learn library is widely used for building and evaluating machine learning models in Python.\n",
    "\n",
    "### Simple Machine Learning Models with Scikit-Learn\n",
    "Scikit-learn is a Python library for machine learning that provides a wide range of tools for classification, regression, clustering, and dimensionality reduction. In this tutorial, we will focus on some basic examples of classification and regression models.\n",
    "\n",
    "#### Classification Example: Iris Dataset\n",
    "\n",
    "The Iris dataset is a classic dataset used in machine learning, consisting of measurements of various characteristics of iris flowers, along with their species. In this example, we will use the scikit-learn library to build a classification model that can predict the species of iris flowers based on their measurements."
   ]
  },
  {
   "cell_type": "code",
   "execution_count": null,
   "metadata": {},
   "outputs": [],
   "source": [
    "from sklearn.datasets import load_iris\n",
    "from sklearn.model_selection import train_test_split\n",
    "from sklearn.tree import DecisionTreeClassifier\n",
    "from sklearn.metrics import accuracy_score\n",
    "\n",
    "# Load the iris dataset\n",
    "iris = load_iris()\n",
    "\n",
    "# Split the dataset into training and testing sets\n",
    "X_train, X_test, y_train, y_test = train_test_split(iris.data, iris.target, test_size=0.2, random_state=42)\n",
    "\n",
    "# Create a decision tree classifier and fit it to the training data\n",
    "clf = DecisionTreeClassifier()\n",
    "clf.fit(X_train, y_train)\n",
    "\n",
    "# Make predictions on the testing data\n",
    "y_pred = clf.predict(X_test)\n",
    "\n",
    "# Calculate the accuracy of the model\n",
    "accuracy = accuracy_score(y_test, y_pred)\n",
    "print(\"Accuracy:\", accuracy)\n"
   ]
  },
  {
   "attachments": {},
   "cell_type": "markdown",
   "metadata": {},
   "source": [
    "## Heart Failure Clinical Records Study\n",
    "\n",
    "The heart_failure_clinical_records_dataset is a publicly available dataset that contains information about patients with heart failure, including their medical history, clinical examination results, and various laboratory tests. The dataset is often used for machine learning and data analysis tasks to predict patient outcomes or identify risk factors for heart failure. In the following cells we are going to build a Machine Learning model to predict the probability a patient will have heart failure."
   ]
  },
  {
   "attachments": {},
   "cell_type": "markdown",
   "metadata": {},
   "source": [
    "The first step is to load the dataset and explore its structure. We can use pandas to load the CSV file into a DataFrame, and then use various pandas functions to explore the dataset."
   ]
  },
  {
   "cell_type": "code",
   "execution_count": null,
   "metadata": {},
   "outputs": [],
   "source": [
    "# Import the necessary libraries\n",
    "import pandas as pd\n",
    "import matplotlib.pyplot as plt\n",
    "import seaborn as sns\n",
    "\n",
    "# Load the dataset into a pandas DataFrame\n",
    "data = pd.read_csv('https://github.com/kyrxanthos/ML-workshop/blob/main/heart_failure_clinical_records_dataset1.csv?raw=true', index_col=0)\n",
    "# alternative_url = \"https://github.com/kyrxanthos/ML-workshop/blob/main/heart_failure_clinical_records_dataset1.csv*?raw=true*\" \n",
    "# View the first few rows of the dataset\n",
    "data.head()"
   ]
  },
  {
   "cell_type": "code",
   "execution_count": null,
   "metadata": {},
   "outputs": [],
   "source": [
    "# IF the above gives an error, try:\n",
    "\n",
    "# import pandas as pd\n",
    "# import io\n",
    "# import requests\n",
    "# url=\"https://github.com/kyrxanthos/ML-workshop/blob/main/heart_failure_clinical_records_dataset1.csv\"\n",
    "# s=requests.get(url).content\n",
    "# data=pd.read_csv(io.StringIO(s.decode('utf-8')))\n",
    "# data.head()\n"
   ]
  },
  {
   "cell_type": "code",
   "execution_count": null,
   "metadata": {},
   "outputs": [],
   "source": [
    "# IF still doesn't work, try downloading the data from:  https://archive.ics.uci.edu/ml/datasets/Heart+failure+clinical+records# \n",
    "# Store the data in a path and provide it here:\n",
    "# path = '/Users/u1147645/Downloads/heart_failure_clinical_records_dataset1.csv'\n",
    "\n",
    "# then use this \n",
    "# data = pd.read_csv(path)\n",
    "# data.head()"
   ]
  },
  {
   "attachments": {},
   "cell_type": "markdown",
   "metadata": {},
   "source": [
    "Next, let's get some basic statistics about the dataset using the describe() method. This should output basic statistics about the numerical columns in the dataset, including the count, mean, standard deviation, minimum, and maximum values."
   ]
  },
  {
   "cell_type": "code",
   "execution_count": null,
   "metadata": {},
   "outputs": [],
   "source": [
    "# View basic statistics about the dataset\n",
    "data.describe()"
   ]
  },
  {
   "attachments": {},
   "cell_type": "markdown",
   "metadata": {},
   "source": [
    "After exploring the dataset's structure, we can create some visualizations to get a better understanding of the data. We'll use seaborn and matplotlib to create some basic visualizations of the dataset."
   ]
  },
  {
   "cell_type": "code",
   "execution_count": null,
   "metadata": {},
   "outputs": [],
   "source": [
    "# Create a pairplot to visualize the relationships between columns\n",
    "data_vis = data[['age', 'ejection_fraction', 'platelets', 'serum_sodium', 'sex', 'time', 'DEATH_EVENT']]\n",
    "sns.pairplot(data_vis, hue='DEATH_EVENT', diag_kind='kde')\n",
    "plt.show()\n"
   ]
  },
  {
   "attachments": {},
   "cell_type": "markdown",
   "metadata": {},
   "source": [
    "Now, we'll first split the data into training and testing sets using scikit-learn's train_test_split function. This function will randomly split the data into a training set (80% of the data) and a testing set (20% of the data)."
   ]
  },
  {
   "cell_type": "code",
   "execution_count": null,
   "metadata": {},
   "outputs": [],
   "source": [
    "# Split the dataset into training and testing sets\n",
    "from sklearn.model_selection import train_test_split\n",
    "\n",
    "X_train, X_test, y_train, y_test = train_test_split(data.drop('DEATH_EVENT', axis=1), \n",
    "                                                    data['DEATH_EVENT'], \n",
    "                                                    test_size=0.2, \n",
    "                                                    random_state=42)\n"
   ]
  },
  {
   "attachments": {},
   "cell_type": "markdown",
   "metadata": {},
   "source": [
    "Next, we'll scale the data using scikit-learn's StandardScaler class, which will transform each feature to have zero mean and unit variance. This is important because many machine learning models perform better when the input features are on a similar scale."
   ]
  },
  {
   "cell_type": "code",
   "execution_count": null,
   "metadata": {},
   "outputs": [],
   "source": [
    "# Scale the data\n",
    "from sklearn.preprocessing import StandardScaler\n",
    "\n",
    "scaler = StandardScaler()\n",
    "X_train = scaler.fit_transform(X_train)\n",
    "X_test = scaler.transform(X_test)\n"
   ]
  },
  {
   "attachments": {},
   "cell_type": "markdown",
   "metadata": {},
   "source": [
    "Now that we have prepared the data, we can train a machine learning model using scikit-learn's RandomForestClassifier class. This is a popular and powerful classification algorithm that is well-suited for this type of problem."
   ]
  },
  {
   "cell_type": "code",
   "execution_count": null,
   "metadata": {},
   "outputs": [],
   "source": [
    "# Train a random forest classifier\n",
    "from sklearn.ensemble import RandomForestClassifier\n",
    "\n",
    "rfc = RandomForestClassifier(n_estimators=100, random_state=42)\n",
    "rfc.fit(X_train, y_train)\n"
   ]
  },
  {
   "attachments": {},
   "cell_type": "markdown",
   "metadata": {},
   "source": [
    "After training the model, we can evaluate its performance on the testing set using scikit-learn's accuracy_score function."
   ]
  },
  {
   "cell_type": "code",
   "execution_count": null,
   "metadata": {},
   "outputs": [],
   "source": [
    "# Evaluate the model on the testing set\n",
    "from sklearn.metrics import accuracy_score\n",
    "\n",
    "y_pred = rfc.predict(X_test)\n",
    "accuracy = accuracy_score(y_test, y_pred)\n",
    "print(f\"Accuracy: {accuracy:.2f}\")\n"
   ]
  },
  {
   "attachments": {},
   "cell_type": "markdown",
   "metadata": {},
   "source": [
    "Finally, we can interpret the model to identify which features are most important for predicting patient outcomes. We can do this by visualizing the feature importances using scikit-learn's plot_importance function."
   ]
  },
  {
   "cell_type": "code",
   "execution_count": null,
   "metadata": {},
   "outputs": [],
   "source": [
    "# Visualize the feature importances\n",
    "importances = rfc.feature_importances_\n",
    "features = data.columns[:-1]\n",
    "sns.barplot(x=importances, y=features)\n",
    "plt.show()"
   ]
  },
  {
   "attachments": {},
   "cell_type": "markdown",
   "metadata": {},
   "source": [
    "This should output a bar chart that shows the importance of each feature in predicting patient outcomes.\n",
    "\n",
    "From the chart, we can see that time and serum_creatinine are the two most important features for predicting patient outcomes."
   ]
  },
  {
   "attachments": {},
   "cell_type": "markdown",
   "metadata": {},
   "source": [
    "Great, you've created your first Machine Learning model! We explored the heart_failure_clinical_records_dataset and demonstrated how it can be used for machine learning and data analysis tasks to predict patient outcomes using a Random Forest Classifier model. We also created some visualizations of the data and interpreted the model to identify which features are most important for predicting patient outcomes."
   ]
  },
  {
   "attachments": {},
   "cell_type": "markdown",
   "metadata": {},
   "source": [
    "Let's now do some exercises that build on the knowledge you've gained from the above. Don't forget, if you don't know how to code something up, Google is your friend :)"
   ]
  },
  {
   "attachments": {},
   "cell_type": "markdown",
   "metadata": {},
   "source": [
    "### Exercises (Optional)\n",
    "#### Exercise 1\n",
    "Visualize the distribution of ages in the dataset using a histogram."
   ]
  },
  {
   "cell_type": "code",
   "execution_count": null,
   "metadata": {},
   "outputs": [],
   "source": [
    "# Type your answer here"
   ]
  },
  {
   "attachments": {},
   "cell_type": "markdown",
   "metadata": {},
   "source": [
    "#### Exercise 2\n",
    "Create a bar plot showing the number of male and female patients in the dataset."
   ]
  },
  {
   "cell_type": "code",
   "execution_count": null,
   "metadata": {},
   "outputs": [],
   "source": [
    "# Type your answer here"
   ]
  },
  {
   "attachments": {},
   "cell_type": "markdown",
   "metadata": {},
   "source": [
    "#### Exercise 3: \n",
    "Train and evaluate a logistic regression model on the dataset, and compare its performance to the random forest classifier."
   ]
  },
  {
   "cell_type": "code",
   "execution_count": null,
   "metadata": {},
   "outputs": [],
   "source": [
    "# Train and evaluate a logistic regression model\n",
    "from sklearn.linear_model import LogisticRegression\n",
    "\n",
    "# Type your answer here"
   ]
  },
  {
   "attachments": {},
   "cell_type": "markdown",
   "metadata": {},
   "source": [
    "#### Exercise 4\n",
    "Train and evaluate a k-nearest neighbors (KNN) classifier on the dataset, and compare its performance to the logistic regression and random forest classifiers."
   ]
  },
  {
   "cell_type": "code",
   "execution_count": null,
   "metadata": {},
   "outputs": [],
   "source": [
    "# Train and evaluate a KNN classifier\n",
    "from sklearn.neighbors import KNeighborsClassifier\n",
    "\n",
    "# Type your answer here\n"
   ]
  },
  {
   "attachments": {},
   "cell_type": "markdown",
   "metadata": {},
   "source": [
    "#### Exercise 5\n",
    "Create a scatter plot of ejection fraction vs. serum creatinine, and color-code the points based on whether the patient survived or not."
   ]
  },
  {
   "cell_type": "code",
   "execution_count": null,
   "metadata": {},
   "outputs": [],
   "source": [
    "# Type your answer here"
   ]
  },
  {
   "attachments": {},
   "cell_type": "markdown",
   "metadata": {},
   "source": [
    "#### Exercise 6\n",
    "Create a scatter plot of age vs. serum sodium, and color-code the points based on whether the patient survived or not."
   ]
  },
  {
   "cell_type": "code",
   "execution_count": null,
   "metadata": {},
   "outputs": [],
   "source": [
    "# Type your answer here"
   ]
  },
  {
   "attachments": {},
   "cell_type": "markdown",
   "metadata": {},
   "source": [
    "#### Exercise 7\n",
    "Train and evaluate a support vector machine (SVM) classifier on the dataset, and compare its performance to the logistic regression and random forest classifiers."
   ]
  },
  {
   "cell_type": "code",
   "execution_count": null,
   "metadata": {},
   "outputs": [],
   "source": [
    "# Train and evaluate an SVM classifier\n",
    "from sklearn.svm import SVC\n",
    "\n",
    "# Type your answer here\n"
   ]
  },
  {
   "attachments": {},
   "cell_type": "markdown",
   "metadata": {},
   "source": [
    "#### Exercise 8\n",
    "Use scikit-learn's GridSearchCV class to tune the hyperparameters of the random forest classifier, and evaluate the performance of the best model on the testing set."
   ]
  },
  {
   "cell_type": "code",
   "execution_count": null,
   "metadata": {},
   "outputs": [],
   "source": [
    "# Use GridSearchCV to tune the hyperparameters of the random forest classifier\n",
    "from sklearn.model_selection import GridSearchCV\n",
    "\n",
    "# Type your answer here\n"
   ]
  },
  {
   "attachments": {},
   "cell_type": "markdown",
   "metadata": {},
   "source": [
    "Well done for making it this far! Have a look at the resources below if you want to learn more about coding, data science and machine learning!"
   ]
  },
  {
   "attachments": {},
   "cell_type": "markdown",
   "metadata": {},
   "source": [
    "## Extra Resources\n",
    "\n",
    "- [Python.org](https://Python.org): The official Python website, with documentation, tutorials, and downloads.\n",
    "- [NumPy.org](https://numpy.org): The official NumPy website, with documentation, tutorials, and downloads.\n",
    "- [SciPy.org](https://scipy.org): The official SciPy website, with documentation, tutorials, and downloads.\n",
    "- [Pandas.pydata.org](https://pandas.pydata.org): The official pandas website, with documentation, tutorials, and downloads.\n",
    "- [Matplotlib.org](https://matplotlib.org): The official matplotlib website, with documentation, tutorials, and downloads.\n",
    "- [Scikit-learn.org](https://scikit-learn.org): The official scikit-learn website, with documentation, tutorials, and downloads.\n",
    "- [Python Data Science Handbook](https://jakevdp.github.io/PythonDataScienceHandbook/): A comprehensive guide to using Python for data science, including sections on NumPy, pandas, matplotlib, and scikit-learn.\n",
    "- [DataCamp](https://www.datacamp.com): A popular online platform for learning data science skills, including courses on Python, NumPy, pandas, matplotlib, and scikit-learn.\n",
    "- [Kaggle](https://www.kaggle.com/learn): A website that offers a wide range of free and paid courses and tutorials on data science, including topics such as machine learning, Python, and scikit-learn.\n",
    "- [Coursera](https://www.coursera.org/learn/machine-learning): An online learning platform that offers courses on a wide range of topics, including machine learning and Python programming."
   ]
  },
  {
   "attachments": {},
   "cell_type": "markdown",
   "metadata": {},
   "source": [
    "# THE END!"
   ]
  }
 ],
 "metadata": {
  "kernelspec": {
   "display_name": "base",
   "language": "python",
   "name": "python3"
  },
  "language_info": {
   "codemirror_mode": {
    "name": "ipython",
    "version": 3
   },
   "file_extension": ".py",
   "mimetype": "text/x-python",
   "name": "python",
   "nbconvert_exporter": "python",
   "pygments_lexer": "ipython3",
   "version": "3.9.13"
  },
  "orig_nbformat": 4
 },
 "nbformat": 4,
 "nbformat_minor": 2
}
